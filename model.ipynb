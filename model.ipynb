{
 "cells": [
  {
   "cell_type": "code",
   "execution_count": 1,
   "metadata": {},
   "outputs": [
    {
     "data": {
      "text/plain": [
       "<torch._C.Generator at 0x11bac6650>"
      ]
     },
     "execution_count": 1,
     "metadata": {},
     "output_type": "execute_result"
    }
   ],
   "source": [
    "import torch\n",
    "import torch.nn as nn\n",
    "import torchvision.transforms as transforms\n",
    "from torch.utils.data import DataLoader, random_split\n",
    "import torchvision.datasets as datasets\n",
    "\n",
    "torch.manual_seed(21)"
   ]
  },
  {
   "cell_type": "code",
   "execution_count": 2,
   "metadata": {},
   "outputs": [
    {
     "name": "stdout",
     "output_type": "stream",
     "text": [
      "mps\n"
     ]
    }
   ],
   "source": [
    "if torch.backends.mps.is_available():\n",
    "  device = torch.device(\"mps\")\n",
    "elif torch.cuda.is_available():\n",
    "  device = torch.device(\"cuda:0\")\n",
    "else:\n",
    "  device = torch.device(\"cpu\")\n",
    "print(device)"
   ]
  },
  {
   "cell_type": "code",
   "execution_count": 3,
   "metadata": {},
   "outputs": [
    {
     "name": "stdout",
     "output_type": "stream",
     "text": [
      "# of train images: 584\n",
      "# of test images: 147\n",
      "Shape of one batch: torch.Size([32, 3, 224, 224])\n",
      "tensor([1, 0, 0, 0, 0, 1, 1, 1, 1, 1, 1, 1, 0, 1, 0, 0, 1, 0, 0, 0, 0, 1, 1, 0,\n",
      "        1, 1, 1, 0, 0, 1, 1, 0])\n"
     ]
    }
   ],
   "source": [
    "# Define the transformations: resize to 224x224, convert to tensor, and normalize.\n",
    "transform = transforms.Compose([\n",
    "\ttransforms.Resize((224, 224)),\n",
    "\ttransforms.ToTensor(),\n",
    "\ttransforms.Normalize(mean=[0.485, 0.456, 0.406], std=[0.229, 0.224, 0.225]) # ImageNet mean and standard deviation\n",
    "])\n",
    "\n",
    "# Set the root folder path where the \"1. Healthy\" and \"3. WSSV\" subfolders are located.\n",
    "data_root = \"ShrimpDiseaseImageBD An Image Dataset for Computer Vision-Based Detection of Shrimp Diseases in Bangladesh/Root/Raw Images\"\n",
    "\n",
    "dataset = datasets.ImageFolder(root=data_root, transform=transform)\n",
    "\n",
    "train_size = int(0.8 * len(dataset))\n",
    "train_dataset, test_dataset = random_split(dataset, [train_size, len(dataset) - train_size])\n",
    "\n",
    "batch_size = 32\n",
    "train_loader = DataLoader(train_dataset, batch_size=batch_size, shuffle=True)\n",
    "test_loader  = DataLoader(test_dataset, batch_size=batch_size, shuffle=False)\n",
    "\n",
    "print(f\"# of train images: {len(train_dataset)}\")\n",
    "print(f\"# of test images: {len(test_dataset)}\")\n",
    "\n",
    "for images, labels in train_loader:\n",
    "\tprint(f\"Shape of one batch: {images.shape}\")\n",
    "\tprint(labels) # 0 = Healthy, 1 = WSSV\n",
    "\tbreak"
   ]
  },
  {
   "cell_type": "code",
   "execution_count": 4,
   "metadata": {},
   "outputs": [],
   "source": [
    "class Block(nn.Module):\n",
    "\tdef __init__(self, in_channels, out_channels, identity_downsample=None, stride=1):\n",
    "\t\tsuper(Block, self).__init__()\n",
    "\t\tself.conv1 = nn.Conv2d(in_channels, out_channels, kernel_size=3, stride=stride, padding=1)\n",
    "\t\tself.bn1 = nn.BatchNorm2d(out_channels)\n",
    "\t\tself.conv2 = nn.Conv2d(out_channels, out_channels, kernel_size=3, stride=1, padding=1)\n",
    "\t\tself.bn2 = nn.BatchNorm2d(out_channels)\n",
    "\t\tself.relu = nn.ReLU()\n",
    "\t\tself.identity_downsample = identity_downsample\n",
    "\n",
    "\tdef forward(self, x):\n",
    "\t\tidentity = x\n",
    "\t\tx = self.conv1(x)\n",
    "\t\tx = self.bn1(x)\n",
    "\t\tx = self.relu(x)\n",
    "\t\tx = self.conv2(x)\n",
    "\t\tx = self.bn2(x)\n",
    "\t\tif self.identity_downsample is not None:\n",
    "\t\t\tidentity = self.identity_downsample(identity)\n",
    "\t\tx += identity\n",
    "\t\tx = self.relu(x)\n",
    "\t\treturn x"
   ]
  },
  {
   "cell_type": "code",
   "execution_count": 5,
   "metadata": {},
   "outputs": [],
   "source": [
    "class ResNet_18(nn.Module):\n",
    "\tdef __init__(self, image_channels, num_classes):\n",
    "\t\tsuper(ResNet_18, self).__init__()\n",
    "\t\tself.in_channels = 64\n",
    "\t\tself.conv1 = nn.Conv2d(image_channels, 64, kernel_size=7, stride=2, padding=3)\n",
    "\t\tself.bn1 = nn.BatchNorm2d(64)\n",
    "\t\tself.relu = nn.ReLU()\n",
    "\t\tself.maxpool = nn.MaxPool2d(kernel_size=3, stride=2, padding=1)\n",
    "\n",
    "\t\t# resnet layers\n",
    "\t\tself.layer1 = self.__make_layer(64, 64, stride=1)\n",
    "\t\tself.layer2 = self.__make_layer(64, 128, stride=2)\n",
    "\t\tself.layer3 = self.__make_layer(128, 256, stride=2)\n",
    "\t\tself.layer4 = self.__make_layer(256, 512, stride=2)\n",
    "\n",
    "\t\tself.avgpool = nn.AdaptiveAvgPool2d((1, 1))\n",
    "\t\tself.fc = nn.Linear(512, num_classes)\n",
    "\n",
    "\tdef __make_layer(self, in_channels, out_channels, stride):\t\t\t\n",
    "\t\tidentity_downsample = None\n",
    "\t\tif stride != 1:\n",
    "\t\t\tidentity_downsample = self.identity_downsample(in_channels, out_channels)\n",
    "\n",
    "\t\treturn nn.Sequential(\n",
    "\t\t\tBlock(in_channels, out_channels, identity_downsample=identity_downsample, stride=stride), \n",
    "\t\t\tBlock(out_channels, out_channels)\n",
    "\t\t)\n",
    "\n",
    "\tdef forward(self, x):\n",
    "\t\tx = self.conv1(x)\n",
    "\t\tx = self.bn1(x)\n",
    "\t\tx = self.relu(x)\n",
    "\t\tx = self.maxpool(x)\n",
    "\n",
    "\t\tx = self.layer1(x)\n",
    "\t\tx = self.layer2(x)\n",
    "\t\tx = self.layer3(x)\n",
    "\t\tx = self.layer4(x)\n",
    "\n",
    "\t\tx = self.avgpool(x)\n",
    "\t\tx = x.view(x.shape[0], -1)\n",
    "\t\tx = self.fc(x)\n",
    "\t\treturn x \n",
    "\n",
    "\tdef identity_downsample(self, in_channels, out_channels):\n",
    "\t\treturn nn.Sequential(\n",
    "\t\t\tnn.Conv2d(in_channels, out_channels, kernel_size=3, stride=2, padding=1), \n",
    "\t\t\tnn.BatchNorm2d(out_channels)\n",
    "\t\t)"
   ]
  },
  {
   "cell_type": "code",
   "execution_count": 6,
   "metadata": {},
   "outputs": [],
   "source": [
    "model = ResNet_18(1, 10)"
   ]
  },
  {
   "cell_type": "code",
   "execution_count": 7,
   "metadata": {},
   "outputs": [
    {
     "name": "stdout",
     "output_type": "stream",
     "text": [
      "12556426\n"
     ]
    }
   ],
   "source": [
    "#count trainable parameters of the model\n",
    "print(sum(p.numel() for p in model.parameters() if p.requires_grad))"
   ]
  },
  {
   "cell_type": "code",
   "execution_count": 8,
   "metadata": {},
   "outputs": [
    {
     "data": {
      "text/plain": [
       "False"
      ]
     },
     "execution_count": 8,
     "metadata": {},
     "output_type": "execute_result"
    }
   ],
   "source": [
    "#move the model to the device\n",
    "model.to(device)\n",
    "next(model.parameters()).is_cuda"
   ]
  }
 ],
 "metadata": {
  "kernelspec": {
   "display_name": "venv",
   "language": "python",
   "name": "python3"
  },
  "language_info": {
   "codemirror_mode": {
    "name": "ipython",
    "version": 3
   },
   "file_extension": ".py",
   "mimetype": "text/x-python",
   "name": "python",
   "nbconvert_exporter": "python",
   "pygments_lexer": "ipython3",
   "version": "3.9.6"
  }
 },
 "nbformat": 4,
 "nbformat_minor": 2
}
